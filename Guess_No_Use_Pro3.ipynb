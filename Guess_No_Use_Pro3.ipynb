{
  "nbformat": 4,
  "nbformat_minor": 0,
  "metadata": {
    "colab": {
      "provenance": []
    },
    "kernelspec": {
      "name": "python3",
      "display_name": "Python 3"
    },
    "language_info": {
      "name": "python"
    }
  },
  "cells": [
    {
      "cell_type": "markdown",
      "source": [
        "# **Project 3: Guess The Number Game In Python (User)**"
      ],
      "metadata": {
        "id": "KZ7zdFzkMWLw"
      }
    },
    {
      "cell_type": "code",
      "source": [
        "import random\n",
        "\n",
        "# ANSI color codes\n",
        "colors = {\n",
        "    \"red\": \"\\033[91m\",\n",
        "    \"yellow\": \"\\033[93m\",\n",
        "    \"orange\": \"\\033[38;5;214m\",\n",
        "    \"blue\": \"\\033[94m\",\n",
        "    \"green\": \"\\033[92m\",\n",
        "    \"reset\": \"\\033[0m\"\n",
        "}\n",
        "\n",
        "def print_colored(text, color):\n",
        "    print(f\"{colors[color]}{text}{colors['reset']}\")\n",
        "\n",
        "# Game Introduction\n",
        "print_colored(\"🎯 Welcome to the Guess The Number Game! 🎯\", \"yellow\")\n",
        "\n",
        "# Choose difficulty level\n",
        "print_colored(\"\\nChoose Difficulty Level:\", \"blue\")\n",
        "print(\"1️⃣ Easy (1-15, 5 attempts)\")\n",
        "print(\"2️⃣ Hard (1-30, 3 attempts)\")\n",
        "\n",
        "difficulty = input(\"Enter 1 for Easy or 2 for Hard: \")\n",
        "\n",
        "if difficulty == \"2\":\n",
        "    max_number = 30\n",
        "    max_attempts = 3\n",
        "    print_colored(\"\\n🔥 Hard Mode Selected! Good Luck! 🔥\", \"red\")\n",
        "else:\n",
        "    max_number = 15\n",
        "    max_attempts = 5\n",
        "    print_colored(\"\\n🌟 Easy Mode Selected! Enjoy the Game! 🌟\", \"green\")\n",
        "\n",
        "# Generate random number\n",
        "number = random.randint(1, max_number)\n",
        "attempts = 0\n",
        "\n",
        "print_colored(f\"\\n🎲 Guess The Number Between 1 & {max_number}! 🎲\", \"orange\")\n",
        "\n",
        "# Game loop\n",
        "while attempts < max_attempts:\n",
        "    guess = int(input(\"🔢 Enter Your Guess: \"))\n",
        "    attempts += 1\n",
        "    remaining_attempts = max_attempts - attempts\n",
        "\n",
        "    if guess < number:\n",
        "        print_colored(\"📉 Too Low! Try Again.\", \"blue\")\n",
        "    elif guess > number:\n",
        "        print_colored(\"📈 Too High! Try Again.\", \"yellow\")\n",
        "    else:\n",
        "        print_colored(\"🎉 Congratulations! You Guessed It Right! 🎉\", \"green\")\n",
        "        print_colored(\"🏆 You Win! 🏆\", \"green\")\n",
        "        break\n",
        "\n",
        "    if remaining_attempts > 0:\n",
        "        print_colored(f\"💡 Attempts Left: {remaining_attempts}\", \"red\")\n",
        "    else:\n",
        "        print_colored(f\"❌ Game Over! The Correct Number Was {number}.\", \"red\")\n"
      ],
      "metadata": {
        "colab": {
          "base_uri": "https://localhost:8080/"
        },
        "id": "6zAjbrVeMm9w",
        "outputId": "e4b36ffd-7d98-476b-f5b7-2b8166e171a8"
      },
      "execution_count": 1,
      "outputs": [
        {
          "output_type": "stream",
          "name": "stdout",
          "text": [
            "\u001b[93m🎯 Welcome to the Guess The Number Game! 🎯\u001b[0m\n",
            "\u001b[94m\n",
            "Choose Difficulty Level:\u001b[0m\n",
            "1️⃣ Easy (1-15, 5 attempts)\n",
            "2️⃣ Hard (1-30, 3 attempts)\n",
            "Enter 1 for Easy or 2 for Hard: 15\n",
            "\u001b[92m\n",
            "🌟 Easy Mode Selected! Enjoy the Game! 🌟\u001b[0m\n",
            "\u001b[38;5;214m\n",
            "🎲 Guess The Number Between 1 & 15! 🎲\u001b[0m\n",
            "🔢 Enter Your Guess: 8\n",
            "\u001b[93m📈 Too High! Try Again.\u001b[0m\n",
            "\u001b[91m💡 Attempts Left: 4\u001b[0m\n",
            "🔢 Enter Your Guess: 5\n",
            "\u001b[93m📈 Too High! Try Again.\u001b[0m\n",
            "\u001b[91m💡 Attempts Left: 3\u001b[0m\n",
            "🔢 Enter Your Guess: 2\n",
            "\u001b[93m📈 Too High! Try Again.\u001b[0m\n",
            "\u001b[91m💡 Attempts Left: 2\u001b[0m\n",
            "🔢 Enter Your Guess: 1\n",
            "\u001b[92m🎉 Congratulations! You Guessed It Right! 🎉\u001b[0m\n",
            "\u001b[92m🏆 You Win! 🏆\u001b[0m\n"
          ]
        }
      ]
    }
  ]
}